{
 "cells": [
  {
   "cell_type": "markdown",
   "metadata": {},
   "source": [
    "# Spatial analysis of Tripadvisor data"
   ]
  },
  {
   "cell_type": "markdown",
   "metadata": {},
   "source": [
    "## Libraries and Settings"
   ]
  },
  {
   "cell_type": "code",
   "execution_count": null,
   "metadata": {},
   "outputs": [],
   "source": [
    "# Install library spacy (in Terminal, in activated environment)\n",
    "# pip install spacy\n",
    "# python -m spacy download en_core_web_sm\n",
    "\n",
    "# Libraries\n",
    "import spacy\n",
    "import os\n",
    "import requests\n",
    "import json\n",
    "import urllib\n",
    "import fnmatch\n",
    "import folium\n",
    "import platform\n",
    "import pandas as pd\n",
    "import geopandas as gpd\n",
    "from IPython.display import clear_output\n",
    "\n",
    "# Ignore warnings\n",
    "import warnings\n",
    "warnings.filterwarnings(\"ignore\")\n",
    "\n",
    "print(os.getcwd())"
   ]
  },
  {
   "cell_type": "markdown",
   "metadata": {},
   "source": [
    "## Import data"
   ]
  },
  {
   "cell_type": "code",
   "execution_count": null,
   "metadata": {},
   "outputs": [],
   "source": [
    "df = pd.read_csv('tripadvisor.csv')\n",
    "\n",
    "print(df.shape)\n",
    "\n",
    "df.head()"
   ]
  },
  {
   "cell_type": "markdown",
   "metadata": {},
   "source": [
    "## Extract locations"
   ]
  },
  {
   "cell_type": "markdown",
   "metadata": {},
   "source": [
    "### Show locations in titles"
   ]
  },
  {
   "cell_type": "code",
   "execution_count": null,
   "metadata": {},
   "outputs": [],
   "source": [
    "df['title_raw']"
   ]
  },
  {
   "cell_type": "markdown",
   "metadata": {},
   "source": [
    "### Extract locations by using NLP methods"
   ]
  },
  {
   "cell_type": "code",
   "execution_count": null,
   "metadata": {},
   "outputs": [],
   "source": [
    "# Load the German NLP model\n",
    "nlp = spacy.load(\"de_core_news_sm\")\n",
    "\n",
    "# Example texts\n",
    "texts = df['title_raw']\n",
    "\n",
    "# Function to extract locations\n",
    "def extract_locations(texts):\n",
    "    locations = []\n",
    "    for text in texts:\n",
    "        doc = nlp(text)\n",
    "        for ent in doc.ents:\n",
    "            if ent.label_ == \"LOC\" or ent.label_ == \"GPE\":\n",
    "                locations.append(ent.text)\n",
    "    return locations\n",
    "\n",
    "# Extract locations\n",
    "location_names = extract_locations(texts)\n",
    "\n",
    "# Create a DataFrame\n",
    "df_locations = pd.DataFrame(location_names, columns=['Location'])\n",
    "\n",
    "# Remove duplicate locations\n",
    "df_locations_unique = df_locations.drop_duplicates().reset_index(drop=True)\n",
    "\n",
    "# Filter out location names longer than XX characters\n",
    "df_locations_filtered = df_locations_unique[df_locations_unique['Location'].apply(len) <= 25]\n",
    "\n",
    "# Display the DataFrame\n",
    "print(df_locations_filtered)\n"
   ]
  },
  {
   "cell_type": "markdown",
   "metadata": {},
   "source": [
    "## Geocode locations"
   ]
  },
  {
   "cell_type": "code",
   "execution_count": null,
   "metadata": {},
   "outputs": [],
   "source": [
    "# Define the base URL for the GeoAdmin API\n",
    "base_url = \"https://api3.geo.admin.ch/rest/services/api/SearchServer?\"\n",
    "\n",
    "# Initialize a list to store coordinates or NA along with location names\n",
    "coordinates_list = []\n",
    "\n",
    "# Loop through each address in the DataFrame\n",
    "for location in df_locations_filtered['Location']:\n",
    "    # Set up search parameters for each location\n",
    "    parameters = {\n",
    "        \"searchText\": location,\n",
    "        \"origins\": \"address\",\n",
    "        \"type\": \"locations\"\n",
    "    }\n",
    "\n",
    "    # Send the request to the GeoAdmin API\n",
    "    response = requests.get(base_url, params=parameters)\n",
    "\n",
    "    # Check the response status and process the data\n",
    "    if response.status_code == 200:\n",
    "        data = response.json()\n",
    "        if data['results']:\n",
    "            first_result = data['results'][0]['attrs']\n",
    "            lat = first_result.get('lat', None)\n",
    "            lon = first_result.get('lon', None)\n",
    "            coordinates_list.append([location, lat, lon])\n",
    "        else:\n",
    "            coordinates_list.append([location, None, None])  # Append NA if no results found\n",
    "    else:\n",
    "        coordinates_list.append([location, None, None])  # Append NA if request failed\n",
    "\n",
    "# Convert the list to a DataFrame with specified column names\n",
    "df_geocoded = pd.DataFrame(coordinates_list, columns=['Location', 'Latitude', 'Longitude'])\n",
    "\n",
    "# Display the DataFrame\n",
    "print(df_geocoded)"
   ]
  },
  {
   "cell_type": "markdown",
   "metadata": {},
   "source": [
    "## Plot on map"
   ]
  },
  {
   "cell_type": "code",
   "execution_count": null,
   "metadata": {},
   "outputs": [],
   "source": [
    "# Initialisierung der Map\n",
    "m = folium.Map(location=[47.44, 8.65], zoom_start=8)\n",
    "\n",
    "# Add lat/lon of addresses\n",
    "df_sub = df_geocoded.dropna()\n",
    "for i in range(0, len(df_sub)):\n",
    "    folium.Marker(location=(df_sub.iloc[i]['Latitude'], \n",
    "                            df_sub.iloc[i]['Longitude']), \n",
    "                  popup=df_sub.iloc[i]['Location']).add_to(m)\n",
    "\n",
    "# Layer control\n",
    "folium.LayerControl().add_to(m)\n",
    "\n",
    "# Plot map\n",
    "m"
   ]
  },
  {
   "cell_type": "markdown",
   "metadata": {},
   "source": [
    "### Jupyter notebook --footer info-- (please always provide this at the end of each notebook)"
   ]
  },
  {
   "cell_type": "code",
   "execution_count": null,
   "metadata": {},
   "outputs": [],
   "source": [
    "import os\n",
    "import platform\n",
    "import socket\n",
    "from platform import python_version\n",
    "from datetime import datetime\n",
    "\n",
    "print('-----------------------------------')\n",
    "print(os.name.upper())\n",
    "print(platform.system(), '|', platform.release())\n",
    "print('Datetime:', datetime.now().strftime(\"%Y-%m-%d %H:%M:%S\"))\n",
    "print('Python Version:', python_version())\n",
    "print('-----------------------------------')"
   ]
  }
 ],
 "metadata": {
  "kernelspec": {
   "display_name": "gisenv",
   "language": "python",
   "name": "python3"
  },
  "language_info": {
   "codemirror_mode": {
    "name": "ipython",
    "version": 3
   },
   "file_extension": ".py",
   "mimetype": "text/x-python",
   "name": "python",
   "nbconvert_exporter": "python",
   "pygments_lexer": "ipython3",
   "version": "3.10.11"
  }
 },
 "nbformat": 4,
 "nbformat_minor": 2
}
